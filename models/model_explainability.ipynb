{
 "cells": [
  {
   "cell_type": "code",
   "execution_count": null,
   "metadata": {},
   "outputs": [],
   "source": [
    "import pandas as pd\n",
    "import numpy as np\n",
    "from sklearn.model_selection import train_test_split\n",
    "from sklearn.preprocessing import StandardScaler, OneHotEncoder\n",
    "from sklearn.compose import ColumnTransformer\n",
    "from sklearn.pipeline import Pipeline\n",
    "from sklearn.ensemble import RandomForestClassifier\n",
    "import shap\n",
    "import lime\n",
    "import lime.lime_tabular"
   ]
  },
  {
   "cell_type": "code",
   "execution_count": null,
   "metadata": {},
   "outputs": [],
   "source": [
    "# Load the datasets\n",
    "fraud_data = pd.read_csv('../data/raw/Fraud_Data.csv')\n",
    "ip_data = pd.read_csv('../data/raw/IpAddress_to_Country.csv')\n",
    "creditcard_data = pd.read_csv('../data/raw/creditcard.csv')"
   ]
  },
  {
   "cell_type": "code",
   "execution_count": null,
   "metadata": {},
   "outputs": [],
   "source": [
    "# Convert datetime strings to datetime objects\n",
    "fraud_data['signup_time'] = pd.to_datetime(fraud_data['signup_time'])\n",
    "fraud_data['purchase_time'] = pd.to_datetime(fraud_data['purchase_time'])\n",
    "\n",
    "# Extract useful datetime components\n",
    "fraud_data['signup_hour'] = fraud_data['signup_time'].dt.hour\n",
    "fraud_data['signup_day'] = fraud_data['signup_time'].dt.dayofweek\n",
    "fraud_data['purchase_hour'] = fraud_data['purchase_time'].dt.hour\n",
    "fraud_data['purchase_day'] = fraud_data['purchase_time'].dt.dayofweek\n",
    "\n",
    "# Drop the original datetime columns\n",
    "fraud_data = fraud_data.drop(columns=['signup_time', 'purchase_time'])"
   ]
  },
  {
   "cell_type": "code",
   "execution_count": null,
   "metadata": {},
   "outputs": [],
   "source": [
    "# For fraud_data\n",
    "fraud_X = fraud_data.drop(columns=['class'])\n",
    "fraud_y = fraud_data['class']\n",
    "\n",
    "# Split fraud_data\n",
    "fraud_X_train, fraud_X_test, fraud_y_train, fraud_y_test = train_test_split(fraud_X, fraud_y, test_size=0.3, random_state=42)"
   ]
  },
  {
   "cell_type": "code",
   "execution_count": null,
   "metadata": {},
   "outputs": [],
   "source": [
    "# Define preprocessing for numerical and categorical features\n",
    "numeric_features = ['purchase_value', 'age']  # Example numeric features\n",
    "categorical_features = ['source', 'browser', 'sex', 'signup_hour', 'signup_day', 'purchase_hour', 'purchase_day']\n",
    "\n",
    "preprocessor = ColumnTransformer(\n",
    "    transformers=[\n",
    "        ('num', StandardScaler(), numeric_features),\n",
    "        ('cat', OneHotEncoder(), categorical_features)\n",
    "    ])"
   ]
  },
  {
   "cell_type": "code",
   "execution_count": null,
   "metadata": {},
   "outputs": [],
   "source": [
    "# Use the best model (Random Forest in this case) and pipeline for fraud data\n",
    "rf_pipeline_fraud = Pipeline(steps=[('preprocessor', preprocessor), ('classifier', RandomForestClassifier())])\n",
    "rf_pipeline_fraud.fit(fraud_X_train, fraud_y_train)"
   ]
  },
  {
   "cell_type": "code",
   "execution_count": null,
   "metadata": {},
   "outputs": [],
   "source": [
    "# SHAP explainability\n",
    "explainer_fraud = shap.Explainer(rf_pipeline_fraud.named_steps['classifier'])\n",
    "shap_values_fraud = explainer_fraud(rf_pipeline_fraud.named_steps['preprocessor'].transform(fraud_X_test))\n",
    "\n",
    "# SHAP plots\n",
    "shap.summary_plot(shap_values_fraud, rf_pipeline_fraud.named_steps['preprocessor'].transform(fraud_X_test), feature_names=fraud_X.columns)\n",
    "shap.dependence_plot(\"purchase_value\", shap_values_fraud, rf_pipeline_fraud.named_steps['preprocessor'].transform(fraud_X_test), feature_names=fraud_X.columns)\n",
    "shap.force_plot(explainer_fraud.expected_value, shap_values_fraud[0, :], fraud_X_test.iloc[0, :], feature_names=fraud_X.columns)"
   ]
  },
  {
   "cell_type": "code",
   "execution_count": null,
   "metadata": {},
   "outputs": [],
   "source": [
    "# LIME explainability\n",
    "explainer = lime.lime_tabular.LimeTabularExplainer(\n",
    "    training_data=rf_pipeline_fraud.named_steps['preprocessor'].transform(fraud_X_train),\n",
    "    feature_names=fraud_X.columns,\n",
    "    class_names=['Not Fraud', 'Fraud'],\n",
    "    mode='classification'\n",
    ")\n",
    "\n",
    "# Explain a single prediction with LIME\n",
    "i = 0  # Index of the instance to explain\n",
    "exp = explainer.explain_instance(\n",
    "    data_row=rf_pipeline_fraud.named_steps['preprocessor'].transform(fraud_X_test)[i],\n",
    "    predict_fn=rf_pipeline_fraud.named_steps['classifier'].predict_proba\n",
    ")\n",
    "\n",
    "# Display LIME explanation\n",
    "exp.show_in_notebook(show_table=True, show_all=False)\n",
    "exp.as_pyplot_figure()"
   ]
  }
 ],
 "metadata": {
  "kernelspec": {
   "display_name": "venv",
   "language": "python",
   "name": "python3"
  },
  "language_info": {
   "name": "python",
   "version": "3.12.3"
  }
 },
 "nbformat": 4,
 "nbformat_minor": 2
}
